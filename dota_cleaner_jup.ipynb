{
 "cells": [
  {
   "cell_type": "markdown",
   "metadata": {},
   "source": [
    "Dota Patch Cleaning\n",
    "Objective: Clean data to get ready for algorithm.\n",
    "Starting by importing the data."
   ]
  },
  {
   "cell_type": "code",
   "execution_count": 43,
   "metadata": {},
   "outputs": [],
   "source": [
    "import pandas as pd \n",
    "import numpy as np\n",
    "\n",
    "p722 = pd.read_csv('/home/sean/dota_bettor/patch_722.csv')"
   ]
  },
  {
   "cell_type": "code",
   "execution_count": 44,
   "metadata": {},
   "outputs": [
    {
     "name": "stdout",
     "output_type": "stream",
     "text": [
      "<class 'pandas.core.frame.DataFrame'>\n",
      "RangeIndex: 3411 entries, 0 to 3410\n",
      "Data columns (total 14 columns):\n",
      "match_id           3411 non-null int64\n",
      "duration           3411 non-null int64\n",
      "start_time         3411 non-null int64\n",
      "radiant_team_id    3312 non-null float64\n",
      "radiant_name       3306 non-null object\n",
      "dire_team_id       3309 non-null float64\n",
      "dire_name          3302 non-null object\n",
      "leagueid           3411 non-null int64\n",
      "league_name        3411 non-null object\n",
      "series_id          3411 non-null int64\n",
      "series_type        3411 non-null int64\n",
      "radiant_score      3411 non-null int64\n",
      "dire_score         3411 non-null int64\n",
      "radiant_win        3411 non-null bool\n",
      "dtypes: bool(1), float64(2), int64(8), object(3)\n",
      "memory usage: 349.8+ KB\n",
      "(177, 14)\n"
     ]
    }
   ],
   "source": [
    "p722.info()\n",
    "null_rows = p722[p722.isnull().any(axis=1)]\n",
    "print(null_row.shape)"
   ]
  },
  {
   "cell_type": "code",
   "execution_count": 45,
   "metadata": {},
   "outputs": [
    {
     "data": {
      "text/plain": [
       "(3234, 14)"
      ]
     },
     "execution_count": 45,
     "metadata": {},
     "output_type": "execute_result"
    }
   ],
   "source": [
    "p722 = p722.dropna(how = 'any', axis = 0)\n",
    "p722.shape"
   ]
  },
  {
   "cell_type": "code",
   "execution_count": 62,
   "metadata": {},
   "outputs": [
    {
     "name": "stdout",
     "output_type": "stream",
     "text": [
      "34.69207683073229\n"
     ]
    },
    {
     "data": {
      "text/plain": [
       "<matplotlib.axes._subplots.AxesSubplot at 0x7fc7033117f0>"
      ]
     },
     "execution_count": 62,
     "metadata": {},
     "output_type": "execute_result"
    },
    {
     "data": {
      "image/png": "[encoded data removed]",
      "text/plain": [
       "<Figure size 432x288 with 1 Axes>"
      ]
     },
     "metadata": {
      "needs_background": "light"
     },
     "output_type": "display_data"
    }
   ],
   "source": [
    "%matplotlib inline\n",
    "print(np.mean(p722[p722['radiant_win']]['radiant_score']))\n",
    "w= p722['radiant_win']\n",
    "p722[w]['radiant_score'].hist(bins = 20)\n",
    "p722[~p722['radiant_win']]['radiant_score'].hist(bins = 20)"
   ]
  },
  {
   "cell_type": "code",
   "execution_count": null,
   "metadata": {},
   "outputs": [],
   "source": []
  }
 ],
 "metadata": {
  "kernelspec": {
   "display_name": "Python 3",
   "language": "python",
   "name": "python3"
  },
  "language_info": {
   "codemirror_mode": {
    "name": "ipython",
    "version": 3
   },
   "file_extension": ".py",
   "mimetype": "text/x-python",
   "name": "python",
   "nbconvert_exporter": "python",
   "pygments_lexer": "ipython3",
   "version": "3.7.3"
  }
 },
 "nbformat": 4,
 "nbformat_minor": 2
}
