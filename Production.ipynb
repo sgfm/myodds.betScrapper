{
 "cells": [
  {
   "cell_type": "code",
   "execution_count": 1,
   "metadata": {},
   "outputs": [],
   "source": [
    "#Importing Selenium\n",
    "from selenium import webdriver \n",
    "import selenium \n",
    "from selenium.webdriver.firefox.options import Options\n",
    "import time \n",
    "\n",
    "options = Options()\n",
    "options.headless = True\n",
    "\n",
    "#Setting up webdriver client\n",
    "browser = webdriver.Firefox(options = options)\n",
    "browser.get(\"https://www.myodds.bet/\")    \n",
    "browser.maximize_window() #May not need to maximize thought it might help with finding elements."
   ]
  },
  {
   "cell_type": "code",
   "execution_count": 2,
   "metadata": {},
   "outputs": [],
   "source": [
    "#Finding each Match\n",
    "search_box = browser.find_elements_by_css_selector('div.match-detail') \n",
    "#Closing a popup that upstructs element clicking later.\n",
    "close_button = browser.find_elements_by_css_selector('.mat-raised-button')\n",
    "close_button[0].click()"
   ]
  },
  {
   "cell_type": "code",
   "execution_count": 3,
   "metadata": {},
   "outputs": [
    {
     "name": "stdout",
     "output_type": "stream",
     "text": [
      "0.009900990099009901\n",
      "0.019801980198019802\n",
      "0.0297029702970297\n",
      "0.039603960396039604\n",
      "0.04950495049504951\n",
      "0.0594059405940594\n",
      "0.06930693069306931\n",
      "0.07920792079207921\n",
      "0.0891089108910891\n",
      "0.09900990099009901\n",
      "0.10891089108910891\n",
      "0.1188118811881188\n",
      "0.12871287128712872\n",
      "0.13861386138613863\n",
      "0.1485148514851485\n",
      "0.15841584158415842\n",
      "0.16831683168316833\n",
      "0.1782178217821782\n",
      "0.18811881188118812\n",
      "0.19801980198019803\n",
      "0.2079207920792079\n",
      "0.21782178217821782\n",
      "0.22772277227722773\n",
      "0.2376237623762376\n",
      "0.24752475247524752\n",
      "0.25742574257425743\n",
      "0.26732673267326734\n"
     ]
    },
    {
     "ename": "IndexError",
     "evalue": "list index out of range",
     "output_type": "error",
     "traceback": [
      "\u001b[0;31m---------------------------------------------------------------------------\u001b[0m",
      "\u001b[0;31mIndexError\u001b[0m                                Traceback (most recent call last)",
      "\u001b[0;32m<ipython-input-3-13ebecd7bcec>\u001b[0m in \u001b[0;36m<module>\u001b[0;34m\u001b[0m\n\u001b[1;32m     41\u001b[0m                         \u001b[0;32mif\u001b[0m \u001b[0mlen\u001b[0m\u001b[0;34m(\u001b[0m\u001b[0mlines\u001b[0m\u001b[0;34m[\u001b[0m\u001b[0mk\u001b[0m\u001b[0;34m]\u001b[0m\u001b[0;34m.\u001b[0m\u001b[0mtext\u001b[0m\u001b[0;34m)\u001b[0m \u001b[0;34m>=\u001b[0m \u001b[0;36m1\u001b[0m\u001b[0;34m:\u001b[0m \u001b[0;31m#Making sure the line has text. Some don't.\u001b[0m\u001b[0;34m\u001b[0m\u001b[0;34m\u001b[0m\u001b[0m\n\u001b[1;32m     42\u001b[0m                             \u001b[0msplit_line\u001b[0m \u001b[0;34m=\u001b[0m \u001b[0mlines\u001b[0m\u001b[0;34m[\u001b[0m\u001b[0mk\u001b[0m\u001b[0;34m]\u001b[0m\u001b[0;34m.\u001b[0m\u001b[0mtext\u001b[0m\u001b[0;34m.\u001b[0m\u001b[0msplitlines\u001b[0m\u001b[0;34m(\u001b[0m\u001b[0;34m)\u001b[0m\u001b[0;34m\u001b[0m\u001b[0;34m\u001b[0m\u001b[0m\n\u001b[0;32m---> 43\u001b[0;31m                             \u001b[0mbetting_df\u001b[0m \u001b[0;34m=\u001b[0m \u001b[0mbetting_df\u001b[0m\u001b[0;34m.\u001b[0m\u001b[0mappend\u001b[0m\u001b[0;34m(\u001b[0m\u001b[0mpd\u001b[0m\u001b[0;34m.\u001b[0m\u001b[0mSeries\u001b[0m\u001b[0;34m(\u001b[0m\u001b[0;34m[\u001b[0m\u001b[0mvd\u001b[0m\u001b[0;34m,\u001b[0m \u001b[0mgame\u001b[0m\u001b[0;34m[\u001b[0m\u001b[0;36m0\u001b[0m\u001b[0;34m]\u001b[0m\u001b[0;34m,\u001b[0m \u001b[0mgame\u001b[0m\u001b[0;34m[\u001b[0m\u001b[0;36m2\u001b[0m\u001b[0;34m]\u001b[0m\u001b[0;34m,\u001b[0m \u001b[0mgame\u001b[0m\u001b[0;34m[\u001b[0m\u001b[0;36m6\u001b[0m\u001b[0;34m]\u001b[0m\u001b[0;34m,\u001b[0m \u001b[0mevent_type\u001b[0m\u001b[0;34m,\u001b[0m \u001b[0msplit_line\u001b[0m\u001b[0;34m[\u001b[0m\u001b[0;36m0\u001b[0m\u001b[0;34m]\u001b[0m\u001b[0;34m,\u001b[0m \u001b[0mfloat\u001b[0m\u001b[0;34m(\u001b[0m\u001b[0msplit_line\u001b[0m\u001b[0;34m[\u001b[0m\u001b[0;36m1\u001b[0m\u001b[0;34m]\u001b[0m\u001b[0;34m)\u001b[0m\u001b[0;34m,\u001b[0m \u001b[0mfloat\u001b[0m\u001b[0;34m(\u001b[0m\u001b[0msplit_line\u001b[0m\u001b[0;34m[\u001b[0m\u001b[0;36m2\u001b[0m\u001b[0;34m]\u001b[0m\u001b[0;34m)\u001b[0m\u001b[0;34m]\u001b[0m\u001b[0;34m,\u001b[0m \u001b[0mindex\u001b[0m \u001b[0;34m=\u001b[0m \u001b[0mbetting_df\u001b[0m\u001b[0;34m.\u001b[0m\u001b[0mcolumns\u001b[0m\u001b[0;34m)\u001b[0m\u001b[0;34m,\u001b[0m \u001b[0mignore_index\u001b[0m \u001b[0;34m=\u001b[0m \u001b[0;32mTrue\u001b[0m\u001b[0;34m)\u001b[0m\u001b[0;34m\u001b[0m\u001b[0;34m\u001b[0m\u001b[0m\n\u001b[0m\u001b[1;32m     44\u001b[0m \u001b[0;34m\u001b[0m\u001b[0m\n\u001b[1;32m     45\u001b[0m \u001b[0;34m\u001b[0m\u001b[0m\n",
      "\u001b[0;31mIndexError\u001b[0m: list index out of range"
     ]
    }
   ],
   "source": [
    "#This list is just a place holder for a database. The match scrapped below will be put into a Mongo DB.\n",
    "import pandas as pd\n",
    "betting_df = pd.DataFrame(columns = ['game', 'time', 'team_one', 'team_two', 'map', 'event', 'team_one_odd', 'team_two_odd'])\n",
    "\n",
    "ticker = 0\n",
    "#Iterating through each match\n",
    "for box in search_box:\n",
    "    game = box.text.splitlines()\n",
    "    #Checking if the match have 7 text elements. This is used to filter out the matches without betting lines.\n",
    "    #May have to set to >= 7, because the league or tournament may be included on this line.\n",
    "    if len(game) == 7:\n",
    "        #Extracting the images in the match and finding the one with a title.\n",
    "        #This title is the type of game being played. (CSGO, DOTA, etc.)\n",
    "        img = box.find_elements_by_tag_name('img')\n",
    "        for element in img:\n",
    "            game_title = element.get_attribute('title')\n",
    "            if game_title != '':\n",
    "                vd = element.get_attribute('title')\n",
    "\n",
    "        #Clicking on the match to show all of the lines availbe. Named drips.\n",
    "        box.click()   \n",
    "        drips = box.find_elements_by_css_selector('div.detail > div:nth-child(n)')\n",
    " \n",
    "        for i in range(len(drips)):\n",
    "            if i == 0: #The first item corresponds to lines that relate to the whole match not an individual map.\n",
    "                lines = drips[i].find_elements_by_css_selector(f'div.detail > div:nth-child({i + 1}) > div:nth-child(n)')\n",
    "                for line in lines:\n",
    "                    if len(line.text) >= 1: #Making sure the line has text. Some don't.\n",
    "                        split_line = line.text.splitlines()\n",
    "                        betting_df = betting_df.append(pd.Series([vd, game[0], game[2], game[6], 'match', split_line[0], float(split_line[1]), float(split_line[2])], index = betting_df.columns), ignore_index = True)\n",
    "\n",
    "\n",
    "\n",
    "            else:\n",
    "                #Finding the map or event type.\n",
    "                event_type = drips[i].text.splitlines()[0].lower().replace(' ','_').replace('.', '_')\n",
    "                #The f string {i + 1} has the +1 becuase the count starts at 1 not 0 like in python\n",
    "                lines = drips[i].find_elements_by_css_selector(f'div.detail > div:nth-child({i + 1}) > div:nth-child(n)')\n",
    "                for k in range(len(lines)):\n",
    "                    if k != 0: #The first line corresponds to the map or event type. Redundant and easier to avoid in this loop\n",
    "                        if len(lines[k].text) >= 1: #Making sure the line has text. Some don't.\n",
    "                            split_line = lines[k].text.splitlines()\n",
    "                            betting_df = betting_df.append(pd.Series([vd, game[0], game[2], game[6], event_type, split_line[0], float(split_line[1]), float(split_line[2])], index = betting_df.columns), ignore_index = True)\n",
    "    \n",
    "                            \n",
    "    \n",
    "\n",
    "#         #This is here to simulate adding to database\n",
    "#         dic_id = test_col.insert_one(dic).inserted_id\n",
    "    ticker += 1\n",
    "    print(ticker / len(search_box))"
   ]
  },
  {
   "cell_type": "code",
   "execution_count": null,
   "metadata": {},
   "outputs": [],
   "source": [
    "betting_df.shape"
   ]
  },
  {
   "cell_type": "code",
   "execution_count": null,
   "metadata": {},
   "outputs": [],
   "source": [
    "betting_df['sum_percent'] = (1 / betting_df['team_one_odd']) + (1 / betting_df['team_two_odd'])\n",
    "betting_df[betting_df['sum_percent'] < 1].sort_values(by=['sum_percent'])"
   ]
  },
  {
   "cell_type": "code",
   "execution_count": null,
   "metadata": {},
   "outputs": [],
   "source": []
  }
 ],
 "metadata": {
  "kernelspec": {
   "display_name": "Python 3",
   "language": "python",
   "name": "python3"
  },
  "language_info": {
   "codemirror_mode": {
    "name": "ipython",
    "version": 3
   },
   "file_extension": ".py",
   "mimetype": "text/x-python",
   "name": "python",
   "nbconvert_exporter": "python",
   "pygments_lexer": "ipython3",
   "version": "3.7.3"
  }
 },
 "nbformat": 4,
 "nbformat_minor": 2
}
