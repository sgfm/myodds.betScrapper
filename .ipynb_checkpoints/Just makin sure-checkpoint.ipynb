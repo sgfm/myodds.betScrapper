{
 "cells": [
  {
   "cell_type": "code",
   "execution_count": 1,
   "metadata": {},
   "outputs": [],
   "source": [
    "#Need to figure out how to put into mongo\n",
    "#How to put into infinite loop\n",
    "#Suss out little quirks\n",
    "#Figure out time stamp\n",
    "#Figure out how to run it on the ol' beatter\n",
    "#Streamline if possible\n",
    "#AWS????\n",
    "#For production shouldn't click into each line scrape best lines"
   ]
  },
  {
   "cell_type": "code",
   "execution_count": 2,
   "metadata": {},
   "outputs": [
    {
     "ename": "SyntaxError",
     "evalue": "invalid syntax (<ipython-input-2-e347e18a484a>, line 1)",
     "output_type": "error",
     "traceback": [
      "\u001b[0;36m  File \u001b[0;32m\"<ipython-input-2-e347e18a484a>\"\u001b[0;36m, line \u001b[0;32m1\u001b[0m\n\u001b[0;31m    export PATH=$PATH:/home/sean/geckodriver-v0.24.0-linux64\u001b[0m\n\u001b[0m              ^\u001b[0m\n\u001b[0;31mSyntaxError\u001b[0m\u001b[0;31m:\u001b[0m invalid syntax\n"
     ]
    }
   ],
   "source": [
    "export PATH=$PATH:/home/sean/geckodriver-v0.24.0-linux64"
   ]
  },
  {
   "cell_type": "code",
   "execution_count": null,
   "metadata": {},
   "outputs": [],
   "source": [
    "\n",
    "#Importing Selenium\n",
    "from selenium import webdriver \n",
    "import selenium \n",
    "from selenium.webdriver.firefox.options import Options\n",
    "import time #Have yet to use\n",
    "\n",
    "options = Options()\n",
    "options.headless = True\n",
    "\n",
    "#Setting up webdriver client\n",
    "browser = webdriver.Firefox(options = options) \n",
    "browser.get(\"https://www.myodds.bet/\")    \n",
    "browser.maximize_window() #May not need to maximize thought it might help with finding elements."
   ]
  },
  {
   "cell_type": "code",
   "execution_count": null,
   "metadata": {},
   "outputs": [],
   "source": [
    "#Finding each Match\n",
    "search_box = browser.find_elements_by_css_selector('div.match-detail') \n",
    "#Closing a popup that upstructs element clicking later.\n",
    "close_button = browser.find_elements_by_css_selector('.mat-raised-button')\n",
    "close_button[0].click()"
   ]
  },
  {
   "cell_type": "code",
   "execution_count": null,
   "metadata": {},
   "outputs": [],
   "source": [
    "import pymongo\n",
    "from pymongo import MongoClient\n",
    "\n",
    "client = MongoClient('localhost', 27017)\n",
    "client"
   ]
  },
  {
   "cell_type": "code",
   "execution_count": null,
   "metadata": {},
   "outputs": [],
   "source": [
    "\n",
    "#This list is just a place holder for a database. The match scrapped below will be put into a Mongo DB.\n",
    "m_list = []\n",
    "#Iterating through each match\n",
    "for box in search_box:\n",
    "    game = box.text.splitlines()\n",
    "    #Checking if the match have 7 text elements. This is used to filter out the matches without betting lines.\n",
    "    #May have to set to >= 7, because the league or tournament may be included on this line.\n",
    "    if len(game) == 7:\n",
    "        dic = {} #Match Dictionary\n",
    "\n",
    "\n",
    "        dic['time'] = game[0] #Time of the start of the match\n",
    "        dic['lines'] = game[1][1:] #Amount of betting lines for the match\n",
    "        dic['team_one'] = game[2] \n",
    "        #game[3] = The most competitive odds for team 1 to win the match\n",
    "        #game[4] = 'vs'\n",
    "        #game[5] = The most competitive odds for team 2 to win the match\n",
    "        dic['team_two'] = game[6]\n",
    "        dic['event'] = {} #Betting event dictionary\n",
    "        \n",
    "        #Extracting the images in the match and finding the one with a title.\n",
    "        #This title is the type of game being played. (CSGO, DOTA, etc.)\n",
    "        img = box.find_elements_by_tag_name('img')\n",
    "        for element in img:\n",
    "            game_title = element.get_attribute('title')\n",
    "            if game_title != '':\n",
    "                dic['Game'] = element.get_attribute('title')\n",
    "        \n",
    "        #Clicking on the match to show all of the lines availbe. Named drips.\n",
    "        box.click()   \n",
    "        drips = box.find_elements_by_css_selector('div.detail > div:nth-child(n)')\n",
    "        \n",
    "        for i in range(len(drips)):\n",
    "            if i == 0: #The first item corresponds to lines that relate to the whole match not an individual map.\n",
    "                dic['event']['match'] = {}\n",
    "                lines = drips[i].find_elements_by_css_selector(f'div.detail > div:nth-child({i + 1}) > div:nth-child(n)')\n",
    "                for line in lines:\n",
    "                    if len(line.text) >= 1: #Making sure the line has text. Some don't.\n",
    "                        line.click()\n",
    "                        split_line = line.text.splitlines()\n",
    "                        #First text element corresponds to the actaul betting event (winner, handicap, first blood, etc.)\n",
    "                        dic['event']['match'][split_line[0]] = {}\n",
    "                        #The next two text elements are the most competitive lines for those events, this can be found out after scrapping.\n",
    "                        split_line_clean = split_line[3:]\n",
    "                        #Info comes in threes: Company, team_one_odd, team_two_odd respectively\n",
    "                        for com, one, two in zip(split_line_clean[::3], split_line_clean[1::3], split_line_clean[2::3]):\n",
    "                            dic['event']['match'][split_line[0]][com] = {}\n",
    "                            dic['event']['match'][split_line[0]][com]['team_one_odd'] = float(one)\n",
    "                            dic['event']['match'][split_line[0]][com]['team_two_odd'] = float(two)\n",
    "                            \n",
    "            else:\n",
    "                #Finding the map or event type.\n",
    "                event_type = drips[i].text.splitlines()[0].lower().replace(' ','_')\n",
    "                dic['event'][event_type] = {}\n",
    "                #The f string {i + 1} has the +1 becuase the count starts at 1 not 0 like in python\n",
    "                lines = drips[i].find_elements_by_css_selector(f'div.detail > div:nth-child({i + 1}) > div:nth-child(n)')\n",
    "                for k in range(len(lines)):\n",
    "                    if k != 0: #The first line corresponds to the map or event type. Redundant and easier to avoid in this loop\n",
    "                        if len(lines[k].text) >= 1: #Making sure the line has text. Some don't.\n",
    "                            lines[k].click() #Opening all of the lines by company\n",
    "                            split_line = lines[k].text.splitlines()\n",
    "                            #First text element corresponds to the actaul betting event (winner, handicap, first blood, etc.)\n",
    "                            dic['event'][event_type][split_line[0]] = {}\n",
    "                            #The next two text elements are the most competitive lines for those events, this can be found out after scrapping.\n",
    "                            split_line_clean = split_line[3:]\n",
    "                            #Info comes in threes: Company, team_one_odd, team_two_odd respectively\n",
    "                            for com, one, two in zip(split_line_clean[::3], split_line_clean[1::3], split_line_clean[2::3]):\n",
    "                                dic['event'][event_type][split_line[0]][com] = {}\n",
    "                                dic['event'][event_type][split_line[0]][com]['team_one_odd'] = float(one)\n",
    "                                dic['event'][event_type][split_line[0]][com]['team_two_odd'] = float(two)\n",
    "\n",
    "\n",
    "        #This is here to simulate adding to database\n",
    "        m_list.append(dic)\n",
    "        break\n"
   ]
  },
  {
   "cell_type": "code",
   "execution_count": null,
   "metadata": {},
   "outputs": [],
   "source": [
    "# .detail > div:nth-child(1) > div:nth-child(1)\n",
    "# div.ng-tns-c18-15\n",
    "# print(m_list[0]['event']['map 2']['Winner']['LOOT.BET'])\n",
    "m_list"
   ]
  },
  {
   "cell_type": "code",
   "execution_count": null,
   "metadata": {},
   "outputs": [],
   "source": []
  }
 ],
 "metadata": {
  "kernelspec": {
   "display_name": "Python 3",
   "language": "python",
   "name": "python3"
  },
  "language_info": {
   "codemirror_mode": {
    "name": "ipython",
    "version": 3
   },
   "file_extension": ".py",
   "mimetype": "text/x-python",
   "name": "python",
   "nbconvert_exporter": "python",
   "pygments_lexer": "ipython3",
   "version": "3.7.3"
  }
 },
 "nbformat": 4,
 "nbformat_minor": 2
}
