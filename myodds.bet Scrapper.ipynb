{
 "cells": [
  {
   "cell_type": "code",
   "execution_count": 1,
   "metadata": {},
   "outputs": [
    {
     "name": "stdout",
     "output_type": "stream",
     "text": [
      "Live\n",
      "+2\n",
      "paiN Gaming\n",
      "1.37\n",
      "vs\n",
      "14.29\n",
      "Keyd Stars\n"
     ]
    }
   ],
   "source": [
    "from selenium import webdriver \n",
    "import selenium \n",
    "import time\n",
    "\n",
    "\n",
    "browser = webdriver.Firefox() \n",
    "browser.get(\"https://www.myodds.bet/\")                                                                                                \n",
    "\n",
    "search_box = browser.find_elements_by_css_selector('div.match-detail') \n",
    "print(search_box[0].text) "
   ]
  },
  {
   "cell_type": "code",
   "execution_count": 2,
   "metadata": {},
   "outputs": [
    {
     "name": "stdout",
     "output_type": "stream",
     "text": [
      "['CSGO', 'CSGO', 'CSGO', 'CSGO', 'DOTA', 'LOL', 'DOTA', 'DOTA', 'DOTA', 'DOTA']\n"
     ]
    }
   ],
   "source": [
    "img = browser.find_elements_by_tag_name('img')\n",
    "game = []\n",
    "for element in img:\n",
    "    game_title = element.get_attribute('title')\n",
    "    if game_title != '':\n",
    "        game.append(element.get_attribute('title'))\n",
    "clean_game = game[::2]\n",
    "print(clean_game)"
   ]
  },
  {
   "cell_type": "code",
   "execution_count": 3,
   "metadata": {},
   "outputs": [
    {
     "name": "stdout",
     "output_type": "stream",
     "text": [
      "50\n",
      "10\n",
      "['21:00', '+3', 'Team Ethereal', '1.81', 'vs', '2.07', 'Revenge Gaming']\n"
     ]
    }
   ],
   "source": [
    "\n",
    "print(len(search_box[8].text))\n",
    "print(len(search_box))\n",
    "print(search_box[8].text.splitlines())"
   ]
  },
  {
   "cell_type": "code",
   "execution_count": 4,
   "metadata": {},
   "outputs": [
    {
     "data": {
      "text/plain": [
       "[['CSGO', 'Live', '+2', 'paiN Gaming', '1.37', 'vs', '14.29', 'Keyd Stars'],\n",
       " ['CSGO', 'Live', '+0', 'DETONA Gaming', 'vs', 'Isurus Gaming'],\n",
       " ['CSGO',\n",
       "  '17:20',\n",
       "  '+1',\n",
       "  'detona (game 1)',\n",
       "  '1.67',\n",
       "  'vs',\n",
       "  '2.06',\n",
       "  'isurus (game 1)'],\n",
       " ['CSGO',\n",
       "  '18:00',\n",
       "  '+1',\n",
       "  'detona (game 2)',\n",
       "  '1.84',\n",
       "  'vs',\n",
       "  '1.88',\n",
       "  'isurus (game 2)'],\n",
       " ['DOTA', '19:00', '+1', 'Team QS', 'vs', 'serenity'],\n",
       " ['LOL', '21:00', '+16', 'APK Prince', '2.35', 'vs', '1.66', 'jin air'],\n",
       " ['DOTA', '21:00', '+5', 'Team QS', '1.96', 'vs', '1.89', 'Team Serenity'],\n",
       " ['DOTA', '21:00', '+5', 'reason', '3.69', 'vs', '1.27', 'team miracle'],\n",
       " ['DOTA',\n",
       "  '21:00',\n",
       "  '+3',\n",
       "  'Team Ethereal',\n",
       "  '1.81',\n",
       "  'vs',\n",
       "  '2.07',\n",
       "  'Revenge Gaming'],\n",
       " ['DOTA', '21:00', '+1', 'Team Ethereal', 'vs', 'Revenge eSports']]"
      ]
     },
     "execution_count": 4,
     "metadata": {},
     "output_type": "execute_result"
    }
   ],
   "source": [
    "test_db = []\n",
    "for i in range(len(search_box)):\n",
    "    test_db.append(search_box[i].text.splitlines())\n",
    "for i in range(len(clean_game)):\n",
    "    test_db[i].insert(0,clean_game[i])\n",
    "    \n",
    "test_db"
   ]
  },
  {
   "cell_type": "code",
   "execution_count": 5,
   "metadata": {},
   "outputs": [],
   "source": [
    "import pandas as pd"
   ]
  },
  {
   "cell_type": "code",
   "execution_count": 6,
   "metadata": {},
   "outputs": [],
   "source": [
    "df = pd.DataFrame(test_db)\n",
    "df.columns = ['Game', 'Time', 'Lines', 'Team_1' ,'Odd_1','VS', 'Odd_2','Team_2']"
   ]
  },
  {
   "cell_type": "code",
   "execution_count": 7,
   "metadata": {},
   "outputs": [
    {
     "data": {
      "text/html": [
       "<div>\n",
       "<style scoped>\n",
       "    .dataframe tbody tr th:only-of-type {\n",
       "        vertical-align: middle;\n",
       "    }\n",
       "\n",
       "    .dataframe tbody tr th {\n",
       "        vertical-align: top;\n",
       "    }\n",
       "\n",
       "    .dataframe thead th {\n",
       "        text-align: right;\n",
       "    }\n",
       "</style>\n",
       "<table border=\"1\" class=\"dataframe\">\n",
       "  <thead>\n",
       "    <tr style=\"text-align: right;\">\n",
       "      <th></th>\n",
       "      <th>Game</th>\n",
       "      <th>Time</th>\n",
       "      <th>Lines</th>\n",
       "      <th>Team_1</th>\n",
       "      <th>Odd_1</th>\n",
       "      <th>VS</th>\n",
       "      <th>Odd_2</th>\n",
       "      <th>Team_2</th>\n",
       "    </tr>\n",
       "  </thead>\n",
       "  <tbody>\n",
       "    <tr>\n",
       "      <th>0</th>\n",
       "      <td>CSGO</td>\n",
       "      <td>Live</td>\n",
       "      <td>+2</td>\n",
       "      <td>paiN Gaming</td>\n",
       "      <td>1.37</td>\n",
       "      <td>vs</td>\n",
       "      <td>14.29</td>\n",
       "      <td>Keyd Stars</td>\n",
       "    </tr>\n",
       "    <tr>\n",
       "      <th>1</th>\n",
       "      <td>CSGO</td>\n",
       "      <td>Live</td>\n",
       "      <td>+0</td>\n",
       "      <td>DETONA Gaming</td>\n",
       "      <td>vs</td>\n",
       "      <td>Isurus Gaming</td>\n",
       "      <td>None</td>\n",
       "      <td>None</td>\n",
       "    </tr>\n",
       "    <tr>\n",
       "      <th>2</th>\n",
       "      <td>CSGO</td>\n",
       "      <td>17:20</td>\n",
       "      <td>+1</td>\n",
       "      <td>detona (game 1)</td>\n",
       "      <td>1.67</td>\n",
       "      <td>vs</td>\n",
       "      <td>2.06</td>\n",
       "      <td>isurus (game 1)</td>\n",
       "    </tr>\n",
       "    <tr>\n",
       "      <th>3</th>\n",
       "      <td>CSGO</td>\n",
       "      <td>18:00</td>\n",
       "      <td>+1</td>\n",
       "      <td>detona (game 2)</td>\n",
       "      <td>1.84</td>\n",
       "      <td>vs</td>\n",
       "      <td>1.88</td>\n",
       "      <td>isurus (game 2)</td>\n",
       "    </tr>\n",
       "    <tr>\n",
       "      <th>4</th>\n",
       "      <td>DOTA</td>\n",
       "      <td>19:00</td>\n",
       "      <td>+1</td>\n",
       "      <td>Team QS</td>\n",
       "      <td>vs</td>\n",
       "      <td>serenity</td>\n",
       "      <td>None</td>\n",
       "      <td>None</td>\n",
       "    </tr>\n",
       "    <tr>\n",
       "      <th>5</th>\n",
       "      <td>LOL</td>\n",
       "      <td>21:00</td>\n",
       "      <td>+16</td>\n",
       "      <td>APK Prince</td>\n",
       "      <td>2.35</td>\n",
       "      <td>vs</td>\n",
       "      <td>1.66</td>\n",
       "      <td>jin air</td>\n",
       "    </tr>\n",
       "    <tr>\n",
       "      <th>6</th>\n",
       "      <td>DOTA</td>\n",
       "      <td>21:00</td>\n",
       "      <td>+5</td>\n",
       "      <td>Team QS</td>\n",
       "      <td>1.96</td>\n",
       "      <td>vs</td>\n",
       "      <td>1.89</td>\n",
       "      <td>Team Serenity</td>\n",
       "    </tr>\n",
       "    <tr>\n",
       "      <th>7</th>\n",
       "      <td>DOTA</td>\n",
       "      <td>21:00</td>\n",
       "      <td>+5</td>\n",
       "      <td>reason</td>\n",
       "      <td>3.69</td>\n",
       "      <td>vs</td>\n",
       "      <td>1.27</td>\n",
       "      <td>team miracle</td>\n",
       "    </tr>\n",
       "    <tr>\n",
       "      <th>8</th>\n",
       "      <td>DOTA</td>\n",
       "      <td>21:00</td>\n",
       "      <td>+3</td>\n",
       "      <td>Team Ethereal</td>\n",
       "      <td>1.81</td>\n",
       "      <td>vs</td>\n",
       "      <td>2.07</td>\n",
       "      <td>Revenge Gaming</td>\n",
       "    </tr>\n",
       "    <tr>\n",
       "      <th>9</th>\n",
       "      <td>DOTA</td>\n",
       "      <td>21:00</td>\n",
       "      <td>+1</td>\n",
       "      <td>Team Ethereal</td>\n",
       "      <td>vs</td>\n",
       "      <td>Revenge eSports</td>\n",
       "      <td>None</td>\n",
       "      <td>None</td>\n",
       "    </tr>\n",
       "  </tbody>\n",
       "</table>\n",
       "</div>"
      ],
      "text/plain": [
       "   Game   Time Lines           Team_1 Odd_1               VS  Odd_2  \\\n",
       "0  CSGO   Live    +2      paiN Gaming  1.37               vs  14.29   \n",
       "1  CSGO   Live    +0    DETONA Gaming    vs    Isurus Gaming   None   \n",
       "2  CSGO  17:20    +1  detona (game 1)  1.67               vs   2.06   \n",
       "3  CSGO  18:00    +1  detona (game 2)  1.84               vs   1.88   \n",
       "4  DOTA  19:00    +1          Team QS    vs         serenity   None   \n",
       "5   LOL  21:00   +16       APK Prince  2.35               vs   1.66   \n",
       "6  DOTA  21:00    +5          Team QS  1.96               vs   1.89   \n",
       "7  DOTA  21:00    +5           reason  3.69               vs   1.27   \n",
       "8  DOTA  21:00    +3    Team Ethereal  1.81               vs   2.07   \n",
       "9  DOTA  21:00    +1    Team Ethereal    vs  Revenge eSports   None   \n",
       "\n",
       "            Team_2  \n",
       "0       Keyd Stars  \n",
       "1             None  \n",
       "2  isurus (game 1)  \n",
       "3  isurus (game 2)  \n",
       "4             None  \n",
       "5          jin air  \n",
       "6    Team Serenity  \n",
       "7     team miracle  \n",
       "8   Revenge Gaming  \n",
       "9             None  "
      ]
     },
     "execution_count": 7,
     "metadata": {},
     "output_type": "execute_result"
    }
   ],
   "source": [
    "df"
   ]
  },
  {
   "cell_type": "code",
   "execution_count": null,
   "metadata": {},
   "outputs": [],
   "source": []
  },
  {
   "cell_type": "code",
   "execution_count": null,
   "metadata": {},
   "outputs": [],
   "source": []
  },
  {
   "cell_type": "code",
   "execution_count": null,
   "metadata": {},
   "outputs": [],
   "source": []
  }
 ],
 "metadata": {
  "kernelspec": {
   "display_name": "Python 3",
   "language": "python",
   "name": "python3"
  },
  "language_info": {
   "codemirror_mode": {
    "name": "ipython",
    "version": 3
   },
   "file_extension": ".py",
   "mimetype": "text/x-python",
   "name": "python",
   "nbconvert_exporter": "python",
   "pygments_lexer": "ipython3",
   "version": "3.7.3"
  }
 },
 "nbformat": 4,
 "nbformat_minor": 2
}
